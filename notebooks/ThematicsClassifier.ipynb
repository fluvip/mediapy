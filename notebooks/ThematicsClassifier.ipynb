{
 "cells": [
  {
   "cell_type": "markdown",
   "metadata": {},
   "source": [
    "**Important:** First run the mongo data transfer with command:\n",
    "`script/dumping_database.sh` \n",
    "since selenium-scraper folder"
   ]
  },
  {
   "cell_type": "code",
   "execution_count": 1,
   "metadata": {},
   "outputs": [
    {
     "name": "stdout",
     "output_type": "stream",
     "text": [
      "HOST MONGO:  mongodb://mongo:27017\n",
      "DATA BASE: contents\n"
     ]
    }
   ],
   "source": [
    "import os\n",
    "HOST_MONGO = os.environ[\"SOCIALMONGO\"]\n",
    "MONGO_DB = os.environ[\"SOCIALMONGODB\"]\n",
    "print(\"HOST MONGO: \",HOST_MONGO)\n",
    "print(\"DATA BASE:\",MONGO_DB)"
   ]
  },
  {
   "cell_type": "markdown",
   "metadata": {},
   "source": [
    "## Importing mongo Collection"
   ]
  },
  {
   "cell_type": "code",
   "execution_count": 2,
   "metadata": {},
   "outputs": [
    {
     "name": "stdout",
     "output_type": "stream",
     "text": [
      "Number of posts 32302\n",
      "Number of categories 180\n"
     ]
    }
   ],
   "source": [
    "from pymongo import MongoClient\n",
    "client = MongoClient(HOST_MONGO)\n",
    "db = client[MONGO_DB]\n",
    "posts = db['labeled_posts']\n",
    "dictionaries = db['thematic_dictionaries']\n",
    "print('Number of posts',posts.count())\n",
    "print('Number of categories',dictionaries.count())"
   ]
  },
  {
   "cell_type": "code",
   "execution_count": 153,
   "metadata": {},
   "outputs": [
    {
     "data": {
      "text/plain": [
       "{'fashion': 0, 'fitness': 2, 'food': 4, 'futbol': 5, 'makeup': 1, 'music': 3}"
      ]
     },
     "execution_count": 153,
     "metadata": {},
     "output_type": "execute_result"
    }
   ],
   "source": [
    "thematic_to_number"
   ]
  },
  {
   "cell_type": "markdown",
   "metadata": {},
   "source": [
    "## Creating a DataFrames"
   ]
  },
  {
   "cell_type": "code",
   "execution_count": 204,
   "metadata": {},
   "outputs": [],
   "source": [
    "import pandas as pd\n",
    "df_posts = pd.DataFrame(list(posts.find()))"
   ]
  },
  {
   "cell_type": "code",
   "execution_count": 205,
   "metadata": {
    "scrolled": true
   },
   "outputs": [
    {
     "data": {
      "text/html": [
       "<div>\n",
       "<style>\n",
       "    .dataframe thead tr:only-child th {\n",
       "        text-align: right;\n",
       "    }\n",
       "\n",
       "    .dataframe thead th {\n",
       "        text-align: left;\n",
       "    }\n",
       "\n",
       "    .dataframe tbody tr th {\n",
       "        vertical-align: top;\n",
       "    }\n",
       "</style>\n",
       "<table border=\"1\" class=\"dataframe\">\n",
       "  <thead>\n",
       "    <tr style=\"text-align: right;\">\n",
       "      <th></th>\n",
       "      <th>_id</th>\n",
       "      <th>image</th>\n",
       "      <th>network_type</th>\n",
       "      <th>text</th>\n",
       "      <th>thematic</th>\n",
       "      <th>thematic_id</th>\n",
       "    </tr>\n",
       "  </thead>\n",
       "  <tbody>\n",
       "    <tr>\n",
       "      <th>0</th>\n",
       "      <td>59dd2801c25d306e2e4b1ebc</td>\n",
       "      <td></td>\n",
       "      <td>Twitter</td>\n",
       "      <td>The most difficult team to beat in football, i...</td>\n",
       "      <td>football</td>\n",
       "      <td>5</td>\n",
       "    </tr>\n",
       "    <tr>\n",
       "      <th>1</th>\n",
       "      <td>59dd2801c25d306e2e4b1ebf</td>\n",
       "      <td>https://pbs.twimg.com/media/DLy93UHWkAAbrMk.jpg</td>\n",
       "      <td>Twitter</td>\n",
       "      <td>Good luck to Argentina  &amp; Portugal  tonight. \\...</td>\n",
       "      <td>football</td>\n",
       "      <td>5</td>\n",
       "    </tr>\n",
       "    <tr>\n",
       "      <th>2</th>\n",
       "      <td>59dd2801c25d306e2e4b1ec2</td>\n",
       "      <td></td>\n",
       "      <td>Twitter</td>\n",
       "      <td>Premier league better , been performing amazin...</td>\n",
       "      <td>futbol</td>\n",
       "      <td>5</td>\n",
       "    </tr>\n",
       "    <tr>\n",
       "      <th>3</th>\n",
       "      <td>59dd2801c25d306e2e4b1ec4</td>\n",
       "      <td>https://pbs.twimg.com/media/DLzU7fGW0AAjjtw.jpg</td>\n",
       "      <td>Twitter</td>\n",
       "      <td>Andre Silva has been involved in 10 goals in h...</td>\n",
       "      <td>football</td>\n",
       "      <td>5</td>\n",
       "    </tr>\n",
       "    <tr>\n",
       "      <th>4</th>\n",
       "      <td>59dd2801c25d306e2e4b1ec6</td>\n",
       "      <td></td>\n",
       "      <td>Twitter</td>\n",
       "      <td>For me... hard times or reining days, or dark ...</td>\n",
       "      <td>futbol</td>\n",
       "      <td>5</td>\n",
       "    </tr>\n",
       "    <tr>\n",
       "      <th>5</th>\n",
       "      <td>59dd2801c25d306e2e4b1ec9</td>\n",
       "      <td>https://pbs.twimg.com/media/DLwCLAwUQAAC1rD.jpg</td>\n",
       "      <td>Twitter</td>\n",
       "      <td>It's Judgment Day for Messi and Argentina.</td>\n",
       "      <td>soccer</td>\n",
       "      <td>5</td>\n",
       "    </tr>\n",
       "    <tr>\n",
       "      <th>6</th>\n",
       "      <td>59dd2801c25d306e2e4b1ecb</td>\n",
       "      <td>https://pbs.twimg.com/ext_tw_video_thumb/91767...</td>\n",
       "      <td>Twitter</td>\n",
       "      <td>The quality on show in Australia vs Syria was ...</td>\n",
       "      <td>football</td>\n",
       "      <td>5</td>\n",
       "    </tr>\n",
       "    <tr>\n",
       "      <th>7</th>\n",
       "      <td>59dd2801c25d306e2e4b1ecd</td>\n",
       "      <td></td>\n",
       "      <td>Twitter</td>\n",
       "      <td>The French national team is like a wonderful s...</td>\n",
       "      <td>soccer</td>\n",
       "      <td>5</td>\n",
       "    </tr>\n",
       "    <tr>\n",
       "      <th>8</th>\n",
       "      <td>59dd2801c25d306e2e4b1ecf</td>\n",
       "      <td>https://pbs.twimg.com/media/DLzIKExWAAADDqq.jpg</td>\n",
       "      <td>Twitter</td>\n",
       "      <td>Eden Hazard has now been directly involved in ...</td>\n",
       "      <td>football</td>\n",
       "      <td>5</td>\n",
       "    </tr>\n",
       "    <tr>\n",
       "      <th>9</th>\n",
       "      <td>59dd2801c25d306e2e4b1ed1</td>\n",
       "      <td>https://pbs.twimg.com/media/DLzULdmV4AAdIqc.jpg</td>\n",
       "      <td>Twitter</td>\n",
       "      <td>ANDRE SILVA MAKES IT TWO! Portugal look well o...</td>\n",
       "      <td>look</td>\n",
       "      <td>0</td>\n",
       "    </tr>\n",
       "    <tr>\n",
       "      <th>10</th>\n",
       "      <td>59dd2801c25d306e2e4b1ed3</td>\n",
       "      <td>https://pbs.twimg.com/media/DLy-54iX0AAJhbS.jpg</td>\n",
       "      <td>Twitter</td>\n",
       "      <td>RT for Coutinho \\nLIKE for Alli</td>\n",
       "      <td>football</td>\n",
       "      <td>5</td>\n",
       "    </tr>\n",
       "    <tr>\n",
       "      <th>11</th>\n",
       "      <td>59dd2801c25d306e2e4b1ed5</td>\n",
       "      <td>https://pbs.twimg.com/media/DLzQOOtWkAECyyy.jpg</td>\n",
       "      <td>Twitter</td>\n",
       "      <td>Tripleeeeeee!</td>\n",
       "      <td>futbol</td>\n",
       "      <td>5</td>\n",
       "    </tr>\n",
       "    <tr>\n",
       "      <th>12</th>\n",
       "      <td>59dd2802c25d306e2e4b1ed7</td>\n",
       "      <td></td>\n",
       "      <td>Twitter</td>\n",
       "      <td>#f4f #japanese culture #anime #otaku #tokyo #l...</td>\n",
       "      <td>futbol</td>\n",
       "      <td>5</td>\n",
       "    </tr>\n",
       "    <tr>\n",
       "      <th>13</th>\n",
       "      <td>59dd2802c25d306e2e4b1ed9</td>\n",
       "      <td>https://pbs.twimg.com/ext_tw_video_thumb/91780...</td>\n",
       "      <td>Twitter</td>\n",
       "      <td>Martin Ødegaard (18) doing bits for Norway U21...</td>\n",
       "      <td>football</td>\n",
       "      <td>5</td>\n",
       "    </tr>\n",
       "    <tr>\n",
       "      <th>14</th>\n",
       "      <td>59dd2802c25d306e2e4b1edb</td>\n",
       "      <td>https://pbs.twimg.com/media/DLyhp5UVoAABZX0.jpg</td>\n",
       "      <td>Twitter</td>\n",
       "      <td>The Netherlands have to beat Sweden 7-0 or bet...</td>\n",
       "      <td>soccer</td>\n",
       "      <td>5</td>\n",
       "    </tr>\n",
       "    <tr>\n",
       "      <th>15</th>\n",
       "      <td>59dd2802c25d306e2e4b1edd</td>\n",
       "      <td>https://pbs.twimg.com/media/DLuR53eW4AAsGGY.jpg</td>\n",
       "      <td>Twitter</td>\n",
       "      <td>Iceland qualify for their first-ever World Cup!</td>\n",
       "      <td>football</td>\n",
       "      <td>5</td>\n",
       "    </tr>\n",
       "    <tr>\n",
       "      <th>16</th>\n",
       "      <td>59dd2802c25d306e2e4b1edf</td>\n",
       "      <td>https://pbs.twimg.com/media/DLzOzUxW0AAuGze.jpg</td>\n",
       "      <td>Twitter</td>\n",
       "      <td>#Justincase ya need a #fun #event #tonight how...</td>\n",
       "      <td>futbol</td>\n",
       "      <td>5</td>\n",
       "    </tr>\n",
       "    <tr>\n",
       "      <th>17</th>\n",
       "      <td>59dd2802c25d306e2e4b1ee1</td>\n",
       "      <td>https://pbs.twimg.com/media/DLywL1LXkAAYxYs.jpg</td>\n",
       "      <td>Twitter</td>\n",
       "      <td>The Palestinian National Soccer team secured a...</td>\n",
       "      <td>soccer</td>\n",
       "      <td>5</td>\n",
       "    </tr>\n",
       "    <tr>\n",
       "      <th>18</th>\n",
       "      <td>59dd2802c25d306e2e4b1ee3</td>\n",
       "      <td>https://pbs.twimg.com/amplify_video_thumb/9178...</td>\n",
       "      <td>Twitter</td>\n",
       "      <td>Let’s talk about that 2 point play http://foot...</td>\n",
       "      <td>football</td>\n",
       "      <td>5</td>\n",
       "    </tr>\n",
       "    <tr>\n",
       "      <th>19</th>\n",
       "      <td>59dd2802c25d306e2e4b1ee5</td>\n",
       "      <td></td>\n",
       "      <td>Twitter</td>\n",
       "      <td>Big goal from #Portugal going into the half. N...</td>\n",
       "      <td>futbol</td>\n",
       "      <td>5</td>\n",
       "    </tr>\n",
       "    <tr>\n",
       "      <th>20</th>\n",
       "      <td>59dd2802c25d306e2e4b1ee7</td>\n",
       "      <td>https://pbs.twimg.com/media/DLynJQhXcAAnVZ9.jpg</td>\n",
       "      <td>Twitter</td>\n",
       "      <td>2012: Played for Boulogne reserves\\n2013: Join...</td>\n",
       "      <td>soccer</td>\n",
       "      <td>5</td>\n",
       "    </tr>\n",
       "    <tr>\n",
       "      <th>21</th>\n",
       "      <td>59dd2802c25d306e2e4b1eea</td>\n",
       "      <td></td>\n",
       "      <td>Twitter</td>\n",
       "      <td>Peruvians are so extra. They declared this day...</td>\n",
       "      <td>futbol</td>\n",
       "      <td>5</td>\n",
       "    </tr>\n",
       "    <tr>\n",
       "      <th>22</th>\n",
       "      <td>59dd2802c25d306e2e4b1eec</td>\n",
       "      <td>https://pbs.twimg.com/media/DLton40UIAABEVv.jpg</td>\n",
       "      <td>Twitter</td>\n",
       "      <td>The 30 nominees for the 2017 Ballon d'Or Franc...</td>\n",
       "      <td>football</td>\n",
       "      <td>5</td>\n",
       "    </tr>\n",
       "    <tr>\n",
       "      <th>23</th>\n",
       "      <td>59dd2802c25d306e2e4b1eee</td>\n",
       "      <td>https://pbs.twimg.com/media/DLzOJ6PUIAASIY7.jpg</td>\n",
       "      <td>Twitter</td>\n",
       "      <td>Ronaldo &amp; Co. are 45 minutes away from the Wor...</td>\n",
       "      <td>ronaldo</td>\n",
       "      <td>5</td>\n",
       "    </tr>\n",
       "    <tr>\n",
       "      <th>24</th>\n",
       "      <td>59dd2802c25d306e2e4b1ef0</td>\n",
       "      <td></td>\n",
       "      <td>Twitter</td>\n",
       "      <td>Theirs two types of fùtbol fans in the world. ...</td>\n",
       "      <td>futbol</td>\n",
       "      <td>5</td>\n",
       "    </tr>\n",
       "    <tr>\n",
       "      <th>25</th>\n",
       "      <td>59dd2802c25d306e2e4b1ef2</td>\n",
       "      <td>https://pbs.twimg.com/media/DLuod9wW0AUEFjp.jpg</td>\n",
       "      <td>Twitter</td>\n",
       "      <td>Trump and Pence cynically exploited and desecr...</td>\n",
       "      <td>football</td>\n",
       "      <td>5</td>\n",
       "    </tr>\n",
       "    <tr>\n",
       "      <th>26</th>\n",
       "      <td>59dd2802c25d306e2e4b1ef4</td>\n",
       "      <td>https://pbs.twimg.com/media/DLzUoh2U8AAdpAh.jpg</td>\n",
       "      <td>Twitter</td>\n",
       "      <td>From kitchen to soccer pitch, Catalonia crisis...</td>\n",
       "      <td>soccer</td>\n",
       "      <td>5</td>\n",
       "    </tr>\n",
       "    <tr>\n",
       "      <th>27</th>\n",
       "      <td>59dd2802c25d306e2e4b1ef6</td>\n",
       "      <td></td>\n",
       "      <td>Twitter</td>\n",
       "      <td>time for some futbol</td>\n",
       "      <td>futbol</td>\n",
       "      <td>5</td>\n",
       "    </tr>\n",
       "    <tr>\n",
       "      <th>28</th>\n",
       "      <td>59dd2802c25d306e2e4b1ef8</td>\n",
       "      <td></td>\n",
       "      <td>Twitter</td>\n",
       "      <td>Mike Ditka: 'If You Don't Respect Our Country,...</td>\n",
       "      <td>football</td>\n",
       "      <td>5</td>\n",
       "    </tr>\n",
       "    <tr>\n",
       "      <th>29</th>\n",
       "      <td>59dd2803c25d306e2e4b1efa</td>\n",
       "      <td>https://pbs.twimg.com/media/DLzM-aaVoAAAsYg.jpg</td>\n",
       "      <td>Twitter</td>\n",
       "      <td>PORTUGAL LEAD! Joao Mario will claim it. It's ...</td>\n",
       "      <td>soccer</td>\n",
       "      <td>5</td>\n",
       "    </tr>\n",
       "    <tr>\n",
       "      <th>...</th>\n",
       "      <td>...</td>\n",
       "      <td>...</td>\n",
       "      <td>...</td>\n",
       "      <td>...</td>\n",
       "      <td>...</td>\n",
       "      <td>...</td>\n",
       "    </tr>\n",
       "    <tr>\n",
       "      <th>32272</th>\n",
       "      <td>59f15b479b255e5fb874da18</td>\n",
       "      <td>https://pbs.twimg.com/media/DNBLJ1WW4AAZ6Yy.jpg</td>\n",
       "      <td>Twitter</td>\n",
       "      <td>Neapolitan cake.</td>\n",
       "      <td>cake</td>\n",
       "      <td>4</td>\n",
       "    </tr>\n",
       "    <tr>\n",
       "      <th>32273</th>\n",
       "      <td>59f15b4b9b255e5fb874da1b</td>\n",
       "      <td>https://scontent-sea1-1.cdninstagram.com/t51.2...</td>\n",
       "      <td>Instagram</td>\n",
       "      <td>All the sprinkles 😍😍😍 [🎥: @tchellapatisserie] ...</td>\n",
       "      <td>cake</td>\n",
       "      <td>4</td>\n",
       "    </tr>\n",
       "    <tr>\n",
       "      <th>32274</th>\n",
       "      <td>59f15b4b9b255e5fb874da1d</td>\n",
       "      <td>https://scontent-sea1-1.cdninstagram.com/t51.2...</td>\n",
       "      <td>Instagram</td>\n",
       "      <td>Bolo de Cenoura Banhado em Chocolate 🥕🍫 ❤️ Cli...</td>\n",
       "      <td>cake</td>\n",
       "      <td>4</td>\n",
       "    </tr>\n",
       "    <tr>\n",
       "      <th>32275</th>\n",
       "      <td>59f15b4b9b255e5fb874da1f</td>\n",
       "      <td>https://scontent-sea1-1.cdninstagram.com/t51.2...</td>\n",
       "      <td>Instagram</td>\n",
       "      <td>Hayırlı geceler 🤗 Çok çok sevdiğim cream puff'...</td>\n",
       "      <td>cake</td>\n",
       "      <td>4</td>\n",
       "    </tr>\n",
       "    <tr>\n",
       "      <th>32276</th>\n",
       "      <td>59f15b4b9b255e5fb874da21</td>\n",
       "      <td>https://scontent-sea1-1.cdninstagram.com/t51.2...</td>\n",
       "      <td>Instagram</td>\n",
       "      <td>Rate 1 to 10❤︎👽🍁🎃\\n﹋﹋﹋﹋♡﹋﹋﹋﹋\\nArtist @viktoria...</td>\n",
       "      <td>cake</td>\n",
       "      <td>4</td>\n",
       "    </tr>\n",
       "    <tr>\n",
       "      <th>32277</th>\n",
       "      <td>59f15b4b9b255e5fb874da23</td>\n",
       "      <td>https://scontent-sea1-1.cdninstagram.com/t51.2...</td>\n",
       "      <td>Instagram</td>\n",
       "      <td>Loving our PASTEL PINK #edibleartpaint - This ...</td>\n",
       "      <td>cake</td>\n",
       "      <td>4</td>\n",
       "    </tr>\n",
       "    <tr>\n",
       "      <th>32278</th>\n",
       "      <td>59f15b4b9b255e5fb874da25</td>\n",
       "      <td>https://scontent-sea1-1.cdninstagram.com/t51.2...</td>\n",
       "      <td>Instagram</td>\n",
       "      <td>creative drink 😱😋\\nBy: @tipsybartender\\nFollow...</td>\n",
       "      <td>cake</td>\n",
       "      <td>4</td>\n",
       "    </tr>\n",
       "    <tr>\n",
       "      <th>32279</th>\n",
       "      <td>59f15b4b9b255e5fb874da27</td>\n",
       "      <td>https://scontent-sea1-1.cdninstagram.com/t51.2...</td>\n",
       "      <td>Instagram</td>\n",
       "      <td>Não sei a irmã de vcs, mas a minha me agradece...</td>\n",
       "      <td>cake</td>\n",
       "      <td>4</td>\n",
       "    </tr>\n",
       "    <tr>\n",
       "      <th>32280</th>\n",
       "      <td>59f15b4b9b255e5fb874da29</td>\n",
       "      <td>https://scontent-sea1-1.cdninstagram.com/t51.2...</td>\n",
       "      <td>Instagram</td>\n",
       "      <td>Mug Cakes 😆☕️🍰🍫💘 Yay or Nay? Chocolate no-bake...</td>\n",
       "      <td>cake</td>\n",
       "      <td>4</td>\n",
       "    </tr>\n",
       "    <tr>\n",
       "      <th>32281</th>\n",
       "      <td>59f15b4b9b255e5fb874da2b</td>\n",
       "      <td>https://scontent-sea1-1.cdninstagram.com/t51.2...</td>\n",
       "      <td>Instagram</td>\n",
       "      <td>When u looking like a whole snack 💦👀👅 link in ...</td>\n",
       "      <td>cake</td>\n",
       "      <td>4</td>\n",
       "    </tr>\n",
       "    <tr>\n",
       "      <th>32282</th>\n",
       "      <td>59f15b4b9b255e5fb874da2d</td>\n",
       "      <td>https://scontent-sea1-1.cdninstagram.com/t51.2...</td>\n",
       "      <td>Instagram</td>\n",
       "      <td>✨💐✨💐✨\\n예쁜컵설기💍💙\\n-\\n#말랑설기\\n#컵설기\\n#컵설기set\\n#cake...</td>\n",
       "      <td>cake</td>\n",
       "      <td>4</td>\n",
       "    </tr>\n",
       "    <tr>\n",
       "      <th>32283</th>\n",
       "      <td>59f15b4b9b255e5fb874da2f</td>\n",
       "      <td>https://scontent-sea1-1.cdninstagram.com/t51.2...</td>\n",
       "      <td>Instagram</td>\n",
       "      <td>Apple Upside Down Cake take 2: putting this on...</td>\n",
       "      <td>cake</td>\n",
       "      <td>4</td>\n",
       "    </tr>\n",
       "    <tr>\n",
       "      <th>32284</th>\n",
       "      <td>59f15b4b9b255e5fb874da31</td>\n",
       "      <td>https://scontent-sea1-1.cdninstagram.com/t51.2...</td>\n",
       "      <td>Instagram</td>\n",
       "      <td>BodyGoal👑✨\\n#follow @cakegirlsss 🍰🍰🍰\\n#fashion...</td>\n",
       "      <td>cake</td>\n",
       "      <td>4</td>\n",
       "    </tr>\n",
       "    <tr>\n",
       "      <th>32285</th>\n",
       "      <td>59f15b4b9b255e5fb874da33</td>\n",
       "      <td>https://scontent-sea1-1.cdninstagram.com/t51.2...</td>\n",
       "      <td>Instagram</td>\n",
       "      <td>Patronus Hedwig Cake !! HAPPY BIRTHDAY YOFEL #...</td>\n",
       "      <td>cake</td>\n",
       "      <td>4</td>\n",
       "    </tr>\n",
       "    <tr>\n",
       "      <th>32286</th>\n",
       "      <td>59f15b4b9b255e5fb874da35</td>\n",
       "      <td>https://scontent-sea1-1.cdninstagram.com/t51.2...</td>\n",
       "      <td>Instagram</td>\n",
       "      <td>Tiramisu Cups\\n.\\n.\\n#bybitepatisserie #tirami...</td>\n",
       "      <td>cake</td>\n",
       "      <td>4</td>\n",
       "    </tr>\n",
       "    <tr>\n",
       "      <th>32287</th>\n",
       "      <td>59f15b4b9b255e5fb874da37</td>\n",
       "      <td>https://scontent-sea1-1.cdninstagram.com/t51.2...</td>\n",
       "      <td>Instagram</td>\n",
       "      <td>I gradually be able to decorate the cake succe...</td>\n",
       "      <td>cake</td>\n",
       "      <td>4</td>\n",
       "    </tr>\n",
       "    <tr>\n",
       "      <th>32288</th>\n",
       "      <td>59f15b4b9b255e5fb874da39</td>\n",
       "      <td>https://scontent-sea1-1.cdninstagram.com/t51.2...</td>\n",
       "      <td>Instagram</td>\n",
       "      <td>#art #illustrator #petersato #kiss\\n#natural #...</td>\n",
       "      <td>cake</td>\n",
       "      <td>4</td>\n",
       "    </tr>\n",
       "    <tr>\n",
       "      <th>32289</th>\n",
       "      <td>59f15b4b9b255e5fb874da3b</td>\n",
       "      <td>https://scontent-sea1-1.cdninstagram.com/t51.2...</td>\n",
       "      <td>Instagram</td>\n",
       "      <td>Birthdays are for you!!! do what you want! #go...</td>\n",
       "      <td>cake</td>\n",
       "      <td>4</td>\n",
       "    </tr>\n",
       "    <tr>\n",
       "      <th>32290</th>\n",
       "      <td>59f15b4b9b255e5fb874da3d</td>\n",
       "      <td>https://scontent-sea1-1.cdninstagram.com/t51.2...</td>\n",
       "      <td>Instagram</td>\n",
       "      <td>2年記念日❤︎\"\\n#2years #1025 #kazunoriikeda \\n#cake...</td>\n",
       "      <td>cake</td>\n",
       "      <td>4</td>\n",
       "    </tr>\n",
       "    <tr>\n",
       "      <th>32291</th>\n",
       "      <td>59f15b4b9b255e5fb874da3f</td>\n",
       "      <td>https://scontent-sea1-1.cdninstagram.com/t51.2...</td>\n",
       "      <td>Instagram</td>\n",
       "      <td>Game of thrones cake🎂👑🗡❤ Happy Name Day Tia Fr...</td>\n",
       "      <td>cake</td>\n",
       "      <td>4</td>\n",
       "    </tr>\n",
       "    <tr>\n",
       "      <th>32292</th>\n",
       "      <td>59f15b4b9b255e5fb874da41</td>\n",
       "      <td>https://scontent-sea1-1.cdninstagram.com/t51.2...</td>\n",
       "      <td>Instagram</td>\n",
       "      <td>كان السفر معاه غير حتى اللحظات الجميله ما ودي ...</td>\n",
       "      <td>cake</td>\n",
       "      <td>4</td>\n",
       "    </tr>\n",
       "    <tr>\n",
       "      <th>32293</th>\n",
       "      <td>59f15b4b9b255e5fb874da43</td>\n",
       "      <td>https://scontent-sea1-1.cdninstagram.com/t51.2...</td>\n",
       "      <td>Instagram</td>\n",
       "      <td>Lagi peminat setia cakebydolcenation.. Setiap ...</td>\n",
       "      <td>cake</td>\n",
       "      <td>4</td>\n",
       "    </tr>\n",
       "    <tr>\n",
       "      <th>32294</th>\n",
       "      <td>59f15b4b9b255e5fb874da45</td>\n",
       "      <td>https://scontent-sea1-1.cdninstagram.com/t51.2...</td>\n",
       "      <td>Instagram</td>\n",
       "      <td>こんにちは(^^)\\n20周年記念❣️\\nハロウィン詰め合わせ🎃です♪\\n20周年を記念して...</td>\n",
       "      <td>cake</td>\n",
       "      <td>4</td>\n",
       "    </tr>\n",
       "    <tr>\n",
       "      <th>32295</th>\n",
       "      <td>59f15b4b9b255e5fb874da47</td>\n",
       "      <td>https://scontent-sea1-1.cdninstagram.com/t51.2...</td>\n",
       "      <td>Instagram</td>\n",
       "      <td>.\\n타르트 오 쇼콜라 입니다♡\\n.\\n진한 다크초코와 고소한 헤이즐넛프랄린이 정말...</td>\n",
       "      <td>cake</td>\n",
       "      <td>4</td>\n",
       "    </tr>\n",
       "    <tr>\n",
       "      <th>32296</th>\n",
       "      <td>59f15b4b9b255e5fb874da49</td>\n",
       "      <td>https://scontent-sea1-1.cdninstagram.com/t51.2...</td>\n",
       "      <td>Instagram</td>\n",
       "      <td>#オヤツ #dessert #desserts #sweets #cakes #cake\\n...</td>\n",
       "      <td>cake</td>\n",
       "      <td>4</td>\n",
       "    </tr>\n",
       "    <tr>\n",
       "      <th>32297</th>\n",
       "      <td>59f15b4b9b255e5fb874da4c</td>\n",
       "      <td>https://scontent-sea1-1.cdninstagram.com/t51.2...</td>\n",
       "      <td>Instagram</td>\n",
       "      <td>#birthdaycake #birthday #cake #pink #少女风</td>\n",
       "      <td>cake</td>\n",
       "      <td>4</td>\n",
       "    </tr>\n",
       "    <tr>\n",
       "      <th>32298</th>\n",
       "      <td>59f15b4b9b255e5fb874da4e</td>\n",
       "      <td>https://scontent-sea1-1.cdninstagram.com/t51.2...</td>\n",
       "      <td>Instagram</td>\n",
       "      <td>.\\n#カフェ #cafe #オシャレ #カフェ風 #カフェスタイル #お茶 #カプチーノ ...</td>\n",
       "      <td>cake</td>\n",
       "      <td>4</td>\n",
       "    </tr>\n",
       "    <tr>\n",
       "      <th>32299</th>\n",
       "      <td>59f15b4b9b255e5fb874da50</td>\n",
       "      <td>https://scontent-sea1-1.cdninstagram.com/t51.2...</td>\n",
       "      <td>Instagram</td>\n",
       "      <td>🍓🍓🍓\\n.\\n.\\n.\\n#strawberry #cake #richgarden #シ...</td>\n",
       "      <td>cake</td>\n",
       "      <td>4</td>\n",
       "    </tr>\n",
       "    <tr>\n",
       "      <th>32300</th>\n",
       "      <td>59f15b4b9b255e5fb874da52</td>\n",
       "      <td>https://scontent-sea1-1.cdninstagram.com/t51.2...</td>\n",
       "      <td>Instagram</td>\n",
       "      <td>#뚜레쥬르#touslesjours #tlj#케이크 #제조기사#생산기사#foodsta...</td>\n",
       "      <td>cake</td>\n",
       "      <td>4</td>\n",
       "    </tr>\n",
       "    <tr>\n",
       "      <th>32301</th>\n",
       "      <td>59f15b4b9b255e5fb874da54</td>\n",
       "      <td>https://scontent-sea1-1.cdninstagram.com/t51.2...</td>\n",
       "      <td>Instagram</td>\n",
       "      <td>#moscowcity #столица  #kazan #girl #luxury #ma...</td>\n",
       "      <td>cake</td>\n",
       "      <td>4</td>\n",
       "    </tr>\n",
       "  </tbody>\n",
       "</table>\n",
       "<p>32302 rows × 6 columns</p>\n",
       "</div>"
      ],
      "text/plain": [
       "                            _id  \\\n",
       "0      59dd2801c25d306e2e4b1ebc   \n",
       "1      59dd2801c25d306e2e4b1ebf   \n",
       "2      59dd2801c25d306e2e4b1ec2   \n",
       "3      59dd2801c25d306e2e4b1ec4   \n",
       "4      59dd2801c25d306e2e4b1ec6   \n",
       "5      59dd2801c25d306e2e4b1ec9   \n",
       "6      59dd2801c25d306e2e4b1ecb   \n",
       "7      59dd2801c25d306e2e4b1ecd   \n",
       "8      59dd2801c25d306e2e4b1ecf   \n",
       "9      59dd2801c25d306e2e4b1ed1   \n",
       "10     59dd2801c25d306e2e4b1ed3   \n",
       "11     59dd2801c25d306e2e4b1ed5   \n",
       "12     59dd2802c25d306e2e4b1ed7   \n",
       "13     59dd2802c25d306e2e4b1ed9   \n",
       "14     59dd2802c25d306e2e4b1edb   \n",
       "15     59dd2802c25d306e2e4b1edd   \n",
       "16     59dd2802c25d306e2e4b1edf   \n",
       "17     59dd2802c25d306e2e4b1ee1   \n",
       "18     59dd2802c25d306e2e4b1ee3   \n",
       "19     59dd2802c25d306e2e4b1ee5   \n",
       "20     59dd2802c25d306e2e4b1ee7   \n",
       "21     59dd2802c25d306e2e4b1eea   \n",
       "22     59dd2802c25d306e2e4b1eec   \n",
       "23     59dd2802c25d306e2e4b1eee   \n",
       "24     59dd2802c25d306e2e4b1ef0   \n",
       "25     59dd2802c25d306e2e4b1ef2   \n",
       "26     59dd2802c25d306e2e4b1ef4   \n",
       "27     59dd2802c25d306e2e4b1ef6   \n",
       "28     59dd2802c25d306e2e4b1ef8   \n",
       "29     59dd2803c25d306e2e4b1efa   \n",
       "...                         ...   \n",
       "32272  59f15b479b255e5fb874da18   \n",
       "32273  59f15b4b9b255e5fb874da1b   \n",
       "32274  59f15b4b9b255e5fb874da1d   \n",
       "32275  59f15b4b9b255e5fb874da1f   \n",
       "32276  59f15b4b9b255e5fb874da21   \n",
       "32277  59f15b4b9b255e5fb874da23   \n",
       "32278  59f15b4b9b255e5fb874da25   \n",
       "32279  59f15b4b9b255e5fb874da27   \n",
       "32280  59f15b4b9b255e5fb874da29   \n",
       "32281  59f15b4b9b255e5fb874da2b   \n",
       "32282  59f15b4b9b255e5fb874da2d   \n",
       "32283  59f15b4b9b255e5fb874da2f   \n",
       "32284  59f15b4b9b255e5fb874da31   \n",
       "32285  59f15b4b9b255e5fb874da33   \n",
       "32286  59f15b4b9b255e5fb874da35   \n",
       "32287  59f15b4b9b255e5fb874da37   \n",
       "32288  59f15b4b9b255e5fb874da39   \n",
       "32289  59f15b4b9b255e5fb874da3b   \n",
       "32290  59f15b4b9b255e5fb874da3d   \n",
       "32291  59f15b4b9b255e5fb874da3f   \n",
       "32292  59f15b4b9b255e5fb874da41   \n",
       "32293  59f15b4b9b255e5fb874da43   \n",
       "32294  59f15b4b9b255e5fb874da45   \n",
       "32295  59f15b4b9b255e5fb874da47   \n",
       "32296  59f15b4b9b255e5fb874da49   \n",
       "32297  59f15b4b9b255e5fb874da4c   \n",
       "32298  59f15b4b9b255e5fb874da4e   \n",
       "32299  59f15b4b9b255e5fb874da50   \n",
       "32300  59f15b4b9b255e5fb874da52   \n",
       "32301  59f15b4b9b255e5fb874da54   \n",
       "\n",
       "                                                   image network_type  \\\n",
       "0                                                             Twitter   \n",
       "1        https://pbs.twimg.com/media/DLy93UHWkAAbrMk.jpg      Twitter   \n",
       "2                                                             Twitter   \n",
       "3        https://pbs.twimg.com/media/DLzU7fGW0AAjjtw.jpg      Twitter   \n",
       "4                                                             Twitter   \n",
       "5        https://pbs.twimg.com/media/DLwCLAwUQAAC1rD.jpg      Twitter   \n",
       "6      https://pbs.twimg.com/ext_tw_video_thumb/91767...      Twitter   \n",
       "7                                                             Twitter   \n",
       "8        https://pbs.twimg.com/media/DLzIKExWAAADDqq.jpg      Twitter   \n",
       "9        https://pbs.twimg.com/media/DLzULdmV4AAdIqc.jpg      Twitter   \n",
       "10       https://pbs.twimg.com/media/DLy-54iX0AAJhbS.jpg      Twitter   \n",
       "11       https://pbs.twimg.com/media/DLzQOOtWkAECyyy.jpg      Twitter   \n",
       "12                                                            Twitter   \n",
       "13     https://pbs.twimg.com/ext_tw_video_thumb/91780...      Twitter   \n",
       "14       https://pbs.twimg.com/media/DLyhp5UVoAABZX0.jpg      Twitter   \n",
       "15       https://pbs.twimg.com/media/DLuR53eW4AAsGGY.jpg      Twitter   \n",
       "16       https://pbs.twimg.com/media/DLzOzUxW0AAuGze.jpg      Twitter   \n",
       "17       https://pbs.twimg.com/media/DLywL1LXkAAYxYs.jpg      Twitter   \n",
       "18     https://pbs.twimg.com/amplify_video_thumb/9178...      Twitter   \n",
       "19                                                            Twitter   \n",
       "20       https://pbs.twimg.com/media/DLynJQhXcAAnVZ9.jpg      Twitter   \n",
       "21                                                            Twitter   \n",
       "22       https://pbs.twimg.com/media/DLton40UIAABEVv.jpg      Twitter   \n",
       "23       https://pbs.twimg.com/media/DLzOJ6PUIAASIY7.jpg      Twitter   \n",
       "24                                                            Twitter   \n",
       "25       https://pbs.twimg.com/media/DLuod9wW0AUEFjp.jpg      Twitter   \n",
       "26       https://pbs.twimg.com/media/DLzUoh2U8AAdpAh.jpg      Twitter   \n",
       "27                                                            Twitter   \n",
       "28                                                            Twitter   \n",
       "29       https://pbs.twimg.com/media/DLzM-aaVoAAAsYg.jpg      Twitter   \n",
       "...                                                  ...          ...   \n",
       "32272    https://pbs.twimg.com/media/DNBLJ1WW4AAZ6Yy.jpg      Twitter   \n",
       "32273  https://scontent-sea1-1.cdninstagram.com/t51.2...    Instagram   \n",
       "32274  https://scontent-sea1-1.cdninstagram.com/t51.2...    Instagram   \n",
       "32275  https://scontent-sea1-1.cdninstagram.com/t51.2...    Instagram   \n",
       "32276  https://scontent-sea1-1.cdninstagram.com/t51.2...    Instagram   \n",
       "32277  https://scontent-sea1-1.cdninstagram.com/t51.2...    Instagram   \n",
       "32278  https://scontent-sea1-1.cdninstagram.com/t51.2...    Instagram   \n",
       "32279  https://scontent-sea1-1.cdninstagram.com/t51.2...    Instagram   \n",
       "32280  https://scontent-sea1-1.cdninstagram.com/t51.2...    Instagram   \n",
       "32281  https://scontent-sea1-1.cdninstagram.com/t51.2...    Instagram   \n",
       "32282  https://scontent-sea1-1.cdninstagram.com/t51.2...    Instagram   \n",
       "32283  https://scontent-sea1-1.cdninstagram.com/t51.2...    Instagram   \n",
       "32284  https://scontent-sea1-1.cdninstagram.com/t51.2...    Instagram   \n",
       "32285  https://scontent-sea1-1.cdninstagram.com/t51.2...    Instagram   \n",
       "32286  https://scontent-sea1-1.cdninstagram.com/t51.2...    Instagram   \n",
       "32287  https://scontent-sea1-1.cdninstagram.com/t51.2...    Instagram   \n",
       "32288  https://scontent-sea1-1.cdninstagram.com/t51.2...    Instagram   \n",
       "32289  https://scontent-sea1-1.cdninstagram.com/t51.2...    Instagram   \n",
       "32290  https://scontent-sea1-1.cdninstagram.com/t51.2...    Instagram   \n",
       "32291  https://scontent-sea1-1.cdninstagram.com/t51.2...    Instagram   \n",
       "32292  https://scontent-sea1-1.cdninstagram.com/t51.2...    Instagram   \n",
       "32293  https://scontent-sea1-1.cdninstagram.com/t51.2...    Instagram   \n",
       "32294  https://scontent-sea1-1.cdninstagram.com/t51.2...    Instagram   \n",
       "32295  https://scontent-sea1-1.cdninstagram.com/t51.2...    Instagram   \n",
       "32296  https://scontent-sea1-1.cdninstagram.com/t51.2...    Instagram   \n",
       "32297  https://scontent-sea1-1.cdninstagram.com/t51.2...    Instagram   \n",
       "32298  https://scontent-sea1-1.cdninstagram.com/t51.2...    Instagram   \n",
       "32299  https://scontent-sea1-1.cdninstagram.com/t51.2...    Instagram   \n",
       "32300  https://scontent-sea1-1.cdninstagram.com/t51.2...    Instagram   \n",
       "32301  https://scontent-sea1-1.cdninstagram.com/t51.2...    Instagram   \n",
       "\n",
       "                                                    text  thematic  \\\n",
       "0      The most difficult team to beat in football, i...  football   \n",
       "1      Good luck to Argentina  & Portugal  tonight. \\...  football   \n",
       "2      Premier league better , been performing amazin...    futbol   \n",
       "3      Andre Silva has been involved in 10 goals in h...  football   \n",
       "4      For me... hard times or reining days, or dark ...    futbol   \n",
       "5             It's Judgment Day for Messi and Argentina.    soccer   \n",
       "6      The quality on show in Australia vs Syria was ...  football   \n",
       "7      The French national team is like a wonderful s...    soccer   \n",
       "8      Eden Hazard has now been directly involved in ...  football   \n",
       "9      ANDRE SILVA MAKES IT TWO! Portugal look well o...      look   \n",
       "10                       RT for Coutinho \\nLIKE for Alli  football   \n",
       "11                                         Tripleeeeeee!    futbol   \n",
       "12     #f4f #japanese culture #anime #otaku #tokyo #l...    futbol   \n",
       "13     Martin Ødegaard (18) doing bits for Norway U21...  football   \n",
       "14     The Netherlands have to beat Sweden 7-0 or bet...    soccer   \n",
       "15      Iceland qualify for their first-ever World Cup!   football   \n",
       "16     #Justincase ya need a #fun #event #tonight how...    futbol   \n",
       "17     The Palestinian National Soccer team secured a...    soccer   \n",
       "18     Let’s talk about that 2 point play http://foot...  football   \n",
       "19     Big goal from #Portugal going into the half. N...    futbol   \n",
       "20     2012: Played for Boulogne reserves\\n2013: Join...    soccer   \n",
       "21     Peruvians are so extra. They declared this day...    futbol   \n",
       "22     The 30 nominees for the 2017 Ballon d'Or Franc...  football   \n",
       "23     Ronaldo & Co. are 45 minutes away from the Wor...   ronaldo   \n",
       "24     Theirs two types of fùtbol fans in the world. ...    futbol   \n",
       "25     Trump and Pence cynically exploited and desecr...  football   \n",
       "26     From kitchen to soccer pitch, Catalonia crisis...    soccer   \n",
       "27                                 time for some futbol     futbol   \n",
       "28     Mike Ditka: 'If You Don't Respect Our Country,...  football   \n",
       "29     PORTUGAL LEAD! Joao Mario will claim it. It's ...    soccer   \n",
       "...                                                  ...       ...   \n",
       "32272                                  Neapolitan cake.       cake   \n",
       "32273  All the sprinkles 😍😍😍 [🎥: @tchellapatisserie] ...      cake   \n",
       "32274  Bolo de Cenoura Banhado em Chocolate 🥕🍫 ❤️ Cli...      cake   \n",
       "32275  Hayırlı geceler 🤗 Çok çok sevdiğim cream puff'...      cake   \n",
       "32276  Rate 1 to 10❤︎👽🍁🎃\\n﹋﹋﹋﹋♡﹋﹋﹋﹋\\nArtist @viktoria...      cake   \n",
       "32277  Loving our PASTEL PINK #edibleartpaint - This ...      cake   \n",
       "32278  creative drink 😱😋\\nBy: @tipsybartender\\nFollow...      cake   \n",
       "32279  Não sei a irmã de vcs, mas a minha me agradece...      cake   \n",
       "32280  Mug Cakes 😆☕️🍰🍫💘 Yay or Nay? Chocolate no-bake...      cake   \n",
       "32281  When u looking like a whole snack 💦👀👅 link in ...      cake   \n",
       "32282  ✨💐✨💐✨\\n예쁜컵설기💍💙\\n-\\n#말랑설기\\n#컵설기\\n#컵설기set\\n#cake...      cake   \n",
       "32283  Apple Upside Down Cake take 2: putting this on...      cake   \n",
       "32284  BodyGoal👑✨\\n#follow @cakegirlsss 🍰🍰🍰\\n#fashion...      cake   \n",
       "32285  Patronus Hedwig Cake !! HAPPY BIRTHDAY YOFEL #...      cake   \n",
       "32286  Tiramisu Cups\\n.\\n.\\n#bybitepatisserie #tirami...      cake   \n",
       "32287  I gradually be able to decorate the cake succe...      cake   \n",
       "32288  #art #illustrator #petersato #kiss\\n#natural #...      cake   \n",
       "32289  Birthdays are for you!!! do what you want! #go...      cake   \n",
       "32290  2年記念日❤︎\"\\n#2years #1025 #kazunoriikeda \\n#cake...      cake   \n",
       "32291  Game of thrones cake🎂👑🗡❤ Happy Name Day Tia Fr...      cake   \n",
       "32292  كان السفر معاه غير حتى اللحظات الجميله ما ودي ...      cake   \n",
       "32293  Lagi peminat setia cakebydolcenation.. Setiap ...      cake   \n",
       "32294  こんにちは(^^)\\n20周年記念❣️\\nハロウィン詰め合わせ🎃です♪\\n20周年を記念して...      cake   \n",
       "32295  .\\n타르트 오 쇼콜라 입니다♡\\n.\\n진한 다크초코와 고소한 헤이즐넛프랄린이 정말...      cake   \n",
       "32296  #オヤツ #dessert #desserts #sweets #cakes #cake\\n...      cake   \n",
       "32297           #birthdaycake #birthday #cake #pink #少女风      cake   \n",
       "32298  .\\n#カフェ #cafe #オシャレ #カフェ風 #カフェスタイル #お茶 #カプチーノ ...      cake   \n",
       "32299  🍓🍓🍓\\n.\\n.\\n.\\n#strawberry #cake #richgarden #シ...      cake   \n",
       "32300  #뚜레쥬르#touslesjours #tlj#케이크 #제조기사#생산기사#foodsta...      cake   \n",
       "32301  #moscowcity #столица  #kazan #girl #luxury #ma...      cake   \n",
       "\n",
       "       thematic_id  \n",
       "0                5  \n",
       "1                5  \n",
       "2                5  \n",
       "3                5  \n",
       "4                5  \n",
       "5                5  \n",
       "6                5  \n",
       "7                5  \n",
       "8                5  \n",
       "9                0  \n",
       "10               5  \n",
       "11               5  \n",
       "12               5  \n",
       "13               5  \n",
       "14               5  \n",
       "15               5  \n",
       "16               5  \n",
       "17               5  \n",
       "18               5  \n",
       "19               5  \n",
       "20               5  \n",
       "21               5  \n",
       "22               5  \n",
       "23               5  \n",
       "24               5  \n",
       "25               5  \n",
       "26               5  \n",
       "27               5  \n",
       "28               5  \n",
       "29               5  \n",
       "...            ...  \n",
       "32272            4  \n",
       "32273            4  \n",
       "32274            4  \n",
       "32275            4  \n",
       "32276            4  \n",
       "32277            4  \n",
       "32278            4  \n",
       "32279            4  \n",
       "32280            4  \n",
       "32281            4  \n",
       "32282            4  \n",
       "32283            4  \n",
       "32284            4  \n",
       "32285            4  \n",
       "32286            4  \n",
       "32287            4  \n",
       "32288            4  \n",
       "32289            4  \n",
       "32290            4  \n",
       "32291            4  \n",
       "32292            4  \n",
       "32293            4  \n",
       "32294            4  \n",
       "32295            4  \n",
       "32296            4  \n",
       "32297            4  \n",
       "32298            4  \n",
       "32299            4  \n",
       "32300            4  \n",
       "32301            4  \n",
       "\n",
       "[32302 rows x 6 columns]"
      ]
     },
     "execution_count": 205,
     "metadata": {},
     "output_type": "execute_result"
    }
   ],
   "source": [
    "import numpy as np\n",
    "df_dictionary = pd.DataFrame(list(dictionaries.find()))\n",
    "thematics = set(df_dictionary[\"thematic\"])\n",
    "thematic_to_number = dict(zip(thematics,range(len(thematics))))\n",
    "#thematic_to_number\n",
    "dict_words_to_numeric = dict(zip(df_dictionary[\"word\"],df_dictionary[\"thematic\"].map(lambda x: thematic_to_number[x])))\n",
    "df_posts[\"thematic_id\"] = df_posts[\"thematic\"].map(lambda x: dict_words_to_numeric[x])\n",
    "df_posts"
   ]
  },
  {
   "cell_type": "code",
   "execution_count": 206,
   "metadata": {},
   "outputs": [],
   "source": [
    "from sklearn.model_selection import train_test_split\n",
    "\n",
    "# Split data into training and test sets\n",
    "X_train, X_test, y_train, y_test = train_test_split(df_posts['text'], \n",
    "                                                    df_posts['thematic_id'], \n",
    "                                                    random_state=0)"
   ]
  },
  {
   "cell_type": "code",
   "execution_count": 207,
   "metadata": {},
   "outputs": [
    {
     "data": {
      "text/plain": [
       "12199    Grays\\n.\\n.\\n.\\n.\\n#makeup #maquillaje #lotd #...\n",
       "16338    Just 👉CR7\\n\\n#cristiano #cristianoronaldo #pag...\n",
       "14968    Catch @NakuulMehta & @SurbhiChandna live today...\n",
       "21382    Casual all blue top and jeans look #fashionblo...\n",
       "30691    Joey Bada$$ Just Met Kobe Bryant At A Soccer G...\n",
       "Name: text, dtype: object"
      ]
     },
     "execution_count": 207,
     "metadata": {},
     "output_type": "execute_result"
    }
   ],
   "source": [
    "X_train.head()"
   ]
  },
  {
   "cell_type": "markdown",
   "metadata": {},
   "source": [
    "## CountVectorizer"
   ]
  },
  {
   "cell_type": "code",
   "execution_count": 208,
   "metadata": {
    "collapsed": true
   },
   "outputs": [],
   "source": [
    "from sklearn.feature_extraction.text import CountVectorizer\n",
    "\n",
    "# Fit the CountVectorizer to the training data\n",
    "vect = CountVectorizer().fit(X_train)"
   ]
  },
  {
   "cell_type": "code",
   "execution_count": 209,
   "metadata": {
    "scrolled": true
   },
   "outputs": [
    {
     "data": {
      "text/plain": [
       "['00',\n",
       " '2yytomx',\n",
       " 'absorbent',\n",
       " 'amasse',\n",
       " 'astley',\n",
       " 'bareminerals',\n",
       " 'bikestable',\n",
       " 'bravo',\n",
       " 'calisthenicbabe',\n",
       " 'chickenbake',\n",
       " 'concursospublicos',\n",
       " 'cutcreasemakeup',\n",
       " 'developing',\n",
       " 'drogashopmaysa',\n",
       " 'enroll',\n",
       " 'fantasyart',\n",
       " 'flannel',\n",
       " 'funcional',\n",
       " 'glowfestas',\n",
       " 'haireducation',\n",
       " 'holiday',\n",
       " 'incik',\n",
       " 'itsyuvan',\n",
       " 'kalıcımakyajistanbul',\n",
       " 'kungfufighting',\n",
       " 'likesplease',\n",
       " 'lütfen',\n",
       " 'maschera',\n",
       " 'millions',\n",
       " 'musclemania',\n",
       " 'nicemitts',\n",
       " 'olshopindo',\n",
       " 'partymusic',\n",
       " 'plans',\n",
       " 'proposal',\n",
       " 'recfit',\n",
       " 'romweshop',\n",
       " 'sdh',\n",
       " 'silmo',\n",
       " 'specially',\n",
       " 'sultanas',\n",
       " 'teams',\n",
       " 'tlqdrzdjsh',\n",
       " 'tyf',\n",
       " 'vestidodequince',\n",
       " 'westbromwichalbion',\n",
       " 'ymodels',\n",
       " 'детской',\n",
       " 'производитель',\n",
       " 'الصداقة',\n",
       " 'لحية',\n",
       " 'やっと着れる',\n",
       " '香港']"
      ]
     },
     "execution_count": 209,
     "metadata": {},
     "output_type": "execute_result"
    }
   ],
   "source": [
    "vect.get_feature_names()[::2000]"
   ]
  },
  {
   "cell_type": "code",
   "execution_count": 210,
   "metadata": {},
   "outputs": [
    {
     "data": {
      "text/plain": [
       "105280"
      ]
     },
     "execution_count": 210,
     "metadata": {},
     "output_type": "execute_result"
    }
   ],
   "source": [
    "len(vect.get_feature_names())"
   ]
  },
  {
   "cell_type": "code",
   "execution_count": 211,
   "metadata": {},
   "outputs": [],
   "source": [
    "# transform the documents in the training data to a document-term matrix\n",
    "X_train_vectorized = vect.transform(X_train)"
   ]
  },
  {
   "cell_type": "code",
   "execution_count": 212,
   "metadata": {},
   "outputs": [
    {
     "data": {
      "text/plain": [
       "LogisticRegression(C=1.0, class_weight=None, dual=False, fit_intercept=True,\n",
       "          intercept_scaling=1, max_iter=100, multi_class='ovr', n_jobs=1,\n",
       "          penalty='l2', random_state=None, solver='liblinear', tol=0.0001,\n",
       "          verbose=0, warm_start=False)"
      ]
     },
     "execution_count": 212,
     "metadata": {},
     "output_type": "execute_result"
    }
   ],
   "source": [
    "from sklearn.linear_model import LogisticRegression\n",
    "# Train the model\n",
    "model = LogisticRegression()\n",
    "model.fit(X_train_vectorized, y_train)"
   ]
  },
  {
   "cell_type": "code",
   "execution_count": 213,
   "metadata": {},
   "outputs": [
    {
     "data": {
      "text/plain": [
       "0.98340625773961854"
      ]
     },
     "execution_count": 213,
     "metadata": {},
     "output_type": "execute_result"
    }
   ],
   "source": [
    "model.score(X_train_vectorized,y_train)"
   ]
  },
  {
   "cell_type": "code",
   "execution_count": 214,
   "metadata": {},
   "outputs": [
    {
     "data": {
      "text/plain": [
       "0.87196631996037643"
      ]
     },
     "execution_count": 214,
     "metadata": {},
     "output_type": "execute_result"
    }
   ],
   "source": [
    "X_test_vectorized = vect.transform(X_test)\n",
    "y_test_est = model.predict(X_test_vectorized)\n",
    "model.score(X_test_vectorized,y_test)"
   ]
  },
  {
   "cell_type": "code",
   "execution_count": 215,
   "metadata": {},
   "outputs": [
    {
     "data": {
      "text/plain": [
       "array([3, 1, 1, ..., 3, 0, 5])"
      ]
     },
     "execution_count": 215,
     "metadata": {},
     "output_type": "execute_result"
    }
   ],
   "source": [
    "y_test_est"
   ]
  },
  {
   "cell_type": "code",
   "execution_count": 216,
   "metadata": {},
   "outputs": [
    {
     "data": {
      "text/plain": [
       "array([ 0.86427567,  0.84840655,  0.85559006,  0.87866667,  0.88989442,\n",
       "        0.89050036])"
      ]
     },
     "execution_count": 216,
     "metadata": {},
     "output_type": "execute_result"
    }
   ],
   "source": [
    "from sklearn.metrics import confusion_matrix\n",
    "c = confusion_matrix(y_test, y_test_est)\n",
    "cantidad = c.sum(axis=1)\n",
    "diagonal = c.diagonal()\n",
    "accuracy = diagonal/cantidad\n",
    "accuracy"
   ]
  },
  {
   "cell_type": "code",
   "execution_count": 245,
   "metadata": {
    "collapsed": true
   },
   "outputs": [],
   "source": [
    "tw=\"carne\""
   ]
  },
  {
   "cell_type": "code",
   "execution_count": 246,
   "metadata": {},
   "outputs": [
    {
     "data": {
      "text/plain": [
       "array([5])"
      ]
     },
     "execution_count": 246,
     "metadata": {},
     "output_type": "execute_result"
    }
   ],
   "source": [
    "model.predict(vect.transform(pd.Series(tw)))"
   ]
  },
  {
   "cell_type": "markdown",
   "metadata": {},
   "source": [
    "# Tfidf"
   ]
  },
  {
   "cell_type": "code",
   "execution_count": 179,
   "metadata": {
    "collapsed": true
   },
   "outputs": [],
   "source": [
    "from sklearn.feature_extraction.text import TfidfVectorizer\n",
    "\n",
    "# Fit the TfidfVectorizer to the training data specifiying a minimum document frequency of 5\n",
    "vect = TfidfVectorizer(min_df=5).fit(X_train)"
   ]
  },
  {
   "cell_type": "code",
   "execution_count": 180,
   "metadata": {},
   "outputs": [
    {
     "data": {
      "text/plain": [
       "['00', 'comingsoon', 'gf', 'mans', 'renk', 'vegasstrong']"
      ]
     },
     "execution_count": 180,
     "metadata": {},
     "output_type": "execute_result"
    }
   ],
   "source": [
    "vect.get_feature_names()[::2000]"
   ]
  },
  {
   "cell_type": "code",
   "execution_count": 181,
   "metadata": {},
   "outputs": [
    {
     "data": {
      "text/plain": [
       "10942"
      ]
     },
     "execution_count": 181,
     "metadata": {},
     "output_type": "execute_result"
    }
   ],
   "source": [
    "len(vect.get_feature_names())"
   ]
  },
  {
   "cell_type": "code",
   "execution_count": 182,
   "metadata": {
    "collapsed": true
   },
   "outputs": [],
   "source": [
    "# transform the documents in the training data to a document-term matrix\n",
    "X_train_vectorized = vect.transform(X_train)"
   ]
  },
  {
   "cell_type": "code",
   "execution_count": 183,
   "metadata": {},
   "outputs": [
    {
     "data": {
      "text/plain": [
       "LogisticRegression(C=1.0, class_weight=None, dual=False, fit_intercept=True,\n",
       "          intercept_scaling=1, max_iter=100, multi_class='ovr', n_jobs=1,\n",
       "          penalty='l2', random_state=None, solver='liblinear', tol=0.0001,\n",
       "          verbose=0, warm_start=False)"
      ]
     },
     "execution_count": 183,
     "metadata": {},
     "output_type": "execute_result"
    }
   ],
   "source": [
    "from sklearn.linear_model import LogisticRegression\n",
    "# Train the model\n",
    "model = LogisticRegression()\n",
    "model.fit(X_train_vectorized, y_train)"
   ]
  },
  {
   "cell_type": "code",
   "execution_count": 186,
   "metadata": {},
   "outputs": [
    {
     "data": {
      "text/plain": [
       "0.91967307851069102"
      ]
     },
     "execution_count": 186,
     "metadata": {},
     "output_type": "execute_result"
    }
   ],
   "source": [
    "model.score(X_train_vectorized,y_train)"
   ]
  },
  {
   "cell_type": "code",
   "execution_count": 187,
   "metadata": {},
   "outputs": [
    {
     "data": {
      "text/plain": [
       "0.86750866765725609"
      ]
     },
     "execution_count": 187,
     "metadata": {},
     "output_type": "execute_result"
    }
   ],
   "source": [
    "X_test_vectorized = vect.transform(X_test)\n",
    "y_test_est = model.predict(X_test_vectorized)\n",
    "model.score(X_test_vectorized,y_test)"
   ]
  },
  {
   "cell_type": "code",
   "execution_count": 188,
   "metadata": {},
   "outputs": [
    {
     "data": {
      "text/plain": [
       "array([3, 1, 1, ..., 3, 0, 5])"
      ]
     },
     "execution_count": 188,
     "metadata": {},
     "output_type": "execute_result"
    }
   ],
   "source": [
    "y_test_est"
   ]
  },
  {
   "cell_type": "code",
   "execution_count": 189,
   "metadata": {},
   "outputs": [
    {
     "data": {
      "text/plain": [
       "array([ 0.85654008,  0.83290267,  0.85869565,  0.88666667,  0.88461538,\n",
       "        0.87889775])"
      ]
     },
     "execution_count": 189,
     "metadata": {},
     "output_type": "execute_result"
    }
   ],
   "source": [
    "from sklearn.metrics import confusion_matrix\n",
    "c = confusion_matrix(y_test, y_test_est)\n",
    "cantidad = c.sum(axis=1)\n",
    "diagonal = c.diagonal()\n",
    "accuracy = diagonal/cantidad\n",
    "accuracy"
   ]
  },
  {
   "cell_type": "code",
   "execution_count": 190,
   "metadata": {
    "collapsed": true
   },
   "outputs": [],
   "source": [
    "tw=\"Vimos e entramos, pq em viagem não somos desses que fazem reservas em restaurantes chiques kkkk Como o próprio nome diz, a hamburgueria oferece os burgers smash, carne fresca prensada direto na chapa, sem estarem moldados naquele formatinho redondinho que estamos acostumados. Lá não se usa carne congelada nem misturas industrializadas. 🍔Nós optamos pelo tradicional, o Classic Smash, com adicional de bacon, que por sinal estava uma delicia, tinha gostinho de bacon artesanal, da roça, sabe?\""
   ]
  },
  {
   "cell_type": "code",
   "execution_count": 191,
   "metadata": {},
   "outputs": [
    {
     "data": {
      "text/plain": [
       "array([5])"
      ]
     },
     "execution_count": 191,
     "metadata": {},
     "output_type": "execute_result"
    }
   ],
   "source": [
    "model.predict(vect.transform(pd.Series(tw)))"
   ]
  },
  {
   "cell_type": "markdown",
   "metadata": {},
   "source": [
    "# n-grams"
   ]
  },
  {
   "cell_type": "code",
   "execution_count": 193,
   "metadata": {},
   "outputs": [
    {
     "data": {
      "text/plain": [
       "21096"
      ]
     },
     "execution_count": 193,
     "metadata": {},
     "output_type": "execute_result"
    }
   ],
   "source": [
    "# Fit the CountVectorizer to the training data specifiying a minimum \n",
    "# document frequency of 5 and extracting 1-grams and 2-grams\n",
    "vect = CountVectorizer(min_df=5, ngram_range=(1,2)).fit(X_train)\n",
    "\n",
    "X_train_vectorized = vect.transform(X_train)\n",
    "\n",
    "len(vect.get_feature_names())"
   ]
  },
  {
   "cell_type": "code",
   "execution_count": 194,
   "metadata": {},
   "outputs": [
    {
     "data": {
      "text/plain": [
       "21096"
      ]
     },
     "execution_count": 194,
     "metadata": {},
     "output_type": "execute_result"
    }
   ],
   "source": [
    "len(vect.get_feature_names())"
   ]
  },
  {
   "cell_type": "code",
   "execution_count": 195,
   "metadata": {
    "collapsed": true
   },
   "outputs": [],
   "source": [
    "# transform the documents in the training data to a document-term matrix\n",
    "X_train_vectorized = vect.transform(X_train)"
   ]
  },
  {
   "cell_type": "code",
   "execution_count": 196,
   "metadata": {},
   "outputs": [
    {
     "data": {
      "text/plain": [
       "LogisticRegression(C=1.0, class_weight=None, dual=False, fit_intercept=True,\n",
       "          intercept_scaling=1, max_iter=100, multi_class='ovr', n_jobs=1,\n",
       "          penalty='l2', random_state=None, solver='liblinear', tol=0.0001,\n",
       "          verbose=0, warm_start=False)"
      ]
     },
     "execution_count": 196,
     "metadata": {},
     "output_type": "execute_result"
    }
   ],
   "source": [
    "from sklearn.linear_model import LogisticRegression\n",
    "# Train the model\n",
    "model = LogisticRegression()\n",
    "model.fit(X_train_vectorized, y_train)"
   ]
  },
  {
   "cell_type": "code",
   "execution_count": 197,
   "metadata": {},
   "outputs": [
    {
     "data": {
      "text/plain": [
       "0.97865929167010646"
      ]
     },
     "execution_count": 197,
     "metadata": {},
     "output_type": "execute_result"
    }
   ],
   "source": [
    "model.score(X_train_vectorized,y_train)"
   ]
  },
  {
   "cell_type": "code",
   "execution_count": 198,
   "metadata": {},
   "outputs": [
    {
     "data": {
      "text/plain": [
       "0.86973749380881626"
      ]
     },
     "execution_count": 198,
     "metadata": {},
     "output_type": "execute_result"
    }
   ],
   "source": [
    "X_test_vectorized = vect.transform(X_test)\n",
    "y_test_est = model.predict(X_test_vectorized)\n",
    "model.score(X_test_vectorized,y_test)"
   ]
  },
  {
   "cell_type": "code",
   "execution_count": 199,
   "metadata": {},
   "outputs": [
    {
     "data": {
      "text/plain": [
       "array([3, 1, 1, ..., 3, 0, 5])"
      ]
     },
     "execution_count": 199,
     "metadata": {},
     "output_type": "execute_result"
    }
   ],
   "source": [
    "y_test_est"
   ]
  },
  {
   "cell_type": "code",
   "execution_count": 200,
   "metadata": {},
   "outputs": [
    {
     "data": {
      "text/plain": [
       "array([ 0.86427567,  0.84582257,  0.85481366,  0.872     ,  0.89215686,\n",
       "        0.88542422])"
      ]
     },
     "execution_count": 200,
     "metadata": {},
     "output_type": "execute_result"
    }
   ],
   "source": [
    "from sklearn.metrics import confusion_matrix\n",
    "c = confusion_matrix(y_test, y_test_est)\n",
    "cantidad = c.sum(axis=1)\n",
    "diagonal = c.diagonal()\n",
    "accuracy = diagonal/cantidad\n",
    "accuracy"
   ]
  },
  {
   "cell_type": "code",
   "execution_count": 201,
   "metadata": {
    "collapsed": true
   },
   "outputs": [],
   "source": [
    "tw=\"Vimos e entramos, pq em viagem não somos desses que fazem reservas em restaurantes chiques kkkk Como o próprio nome diz, a hamburgueria oferece os burgers smash, carne fresca prensada direto na chapa, sem estarem moldados naquele formatinho redondinho que estamos acostumados. Lá não se usa carne congelada nem misturas industrializadas. 🍔Nós optamos pelo tradicional, o Classic Smash, com adicional de bacon, que por sinal estava uma delicia, tinha gostinho de bacon artesanal, da roça, sabe?\""
   ]
  },
  {
   "cell_type": "code",
   "execution_count": 203,
   "metadata": {},
   "outputs": [
    {
     "data": {
      "text/plain": [
       "array([4])"
      ]
     },
     "execution_count": 203,
     "metadata": {},
     "output_type": "execute_result"
    }
   ],
   "source": [
    "model.predict(vect.transform(pd.Series(tw)))"
   ]
  }
 ],
 "metadata": {
  "kernelspec": {
   "display_name": "Python 3",
   "language": "python",
   "name": "python3"
  },
  "language_info": {
   "codemirror_mode": {
    "name": "ipython",
    "version": 3
   },
   "file_extension": ".py",
   "mimetype": "text/x-python",
   "name": "python",
   "nbconvert_exporter": "python",
   "pygments_lexer": "ipython3",
   "version": "3.6.2"
  }
 },
 "nbformat": 4,
 "nbformat_minor": 2
}
