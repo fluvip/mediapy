{
 "cells": [
  {
   "cell_type": "markdown",
   "metadata": {},
   "source": [
    "To run this model sklearn should be installed, the following are steps for installation:<br>\n",
    "\n",
    "`sudo apt-get update`\n",
    "\n",
    "`sudo apt-get install python3 -y`\n",
    "\n",
    "`export LC_ALL=\"en_US.UTF-8\"\n",
    "export LC_CTYPE=\"en_US.UTF-8\"\n",
    "sudo dpkg-reconfigure locales`\n",
    "\n",
    "`pip3 install scikit-learn\n",
    "pip3 install numpy\n",
    "pip3 install scipy`\n",
    "\n",
    "`pip3 install --upgrade pip`\n",
    "`pip3 install -U scikit-learn`"
   ]
  },
  {
   "cell_type": "code",
   "execution_count": 6,
   "metadata": {},
   "outputs": [],
   "source": [
    "import shelve\n",
    "with shelve.open('notebooks/models/thematics_classifier') as shelve:\n",
    "    for key in shelve:\n",
    "        globals()[key]=shelve[key]\n",
    "\n",
    "def thematicsClassifier(posts):\n",
    "    return list(map(lambda x: number_to_thematic[x],model.predict(vect.transform(posts))))"
   ]
  },
  {
   "cell_type": "code",
   "execution_count": 7,
   "metadata": {},
   "outputs": [
    {
     "name": "stdout",
     "output_type": "stream",
     "text": [
      "Output: ['food', 'food']\n"
     ]
    }
   ],
   "source": [
    "post = \"Hurry, only a few more days left to make the most of Kids Eat Free at all @JamiesItalianUK. Avail until 29/10, book: http://jamieol.com/KEFOct29\"\n",
    "posts = [\"Hurry, only a few more days left to make the most of Kids Eat Free at all @JamiesItalianUK. Avail until 29/10, book: http://jamieol.com/KEFOct29\"\n",
    ",\"Hurry, only a few more days left to make the most of Kids Eat Free at all @JamiesItalianUK. Avail until 29/10, book: http://jamieol.com/KEFOct29\"]\n",
    "\n",
    "output = thematicsClassifier(posts) #change it for posts\n",
    "print(\"Output:\",output)"
   ]
  }
 ],
 "metadata": {
  "kernelspec": {
   "display_name": "Python 3",
   "language": "python",
   "name": "python3"
  }
 },
 "nbformat": 4,
 "nbformat_minor": 2
}
