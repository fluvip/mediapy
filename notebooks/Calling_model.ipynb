{
 "cells": [
  {
   "cell_type": "markdown",
   "metadata": {},
   "source": [
    "To run this model sklearn should be installed, the following are steps for installation:<br>\n",
    "\n",
    "`sudo apt-get update`\n",
    "\n",
    "`sudo apt-get install python3 -y`\n",
    "\n",
    "`export LC_ALL=\"en_US.UTF-8\"\n",
    "export LC_CTYPE=\"en_US.UTF-8\"`\n",
    "\n",
    "`pip3 install -U scikit-learn\n",
    "pip3 install numpy\n",
    "pip3 install scipy`\n",
    "\n",
    "`\n",
    "apt-get install pylint\n",
    "`"
   ]
  },
  {
   "cell_type": "code",
   "execution_count": 16,
   "metadata": {
    "collapsed": true
   },
   "outputs": [],
   "source": [
    "import shelve\n",
    "with shelve.open('models/thematics_classifier') as shelve: #This is run inside notebooks folder\n",
    "    for key in shelve:\n",
    "        globals()[key]=shelve[key]\n",
    "\n",
    "def thematicsClassifier(posts):\n",
    "    if type(posts) == str: \n",
    "        posts = [posts]\n",
    "    labels = list(map(lambda x: number_to_thematic[x],model.predict(vect.transform(posts))))\n",
    "    probs = list(map(lambda x: max(x),model.predict_proba(vect.transform(posts))))\n",
    "    return [labels,probs]"
   ]
  },
  {
   "cell_type": "code",
   "execution_count": 18,
   "metadata": {},
   "outputs": [
    {
     "name": "stdout",
     "output_type": "stream",
     "text": [
      "Output: [['fitness'], [0.28343178301155353]]\n"
     ]
    }
   ],
   "source": [
    "post = \"Locals know best! Shanghai native & #VSFashionShow model @mengyaoxi's fave hometown spots: http://i.victoria.com/Mk7\"\n",
    "posts = [\"Hurry, only a few more days left to make the most of Kids Eat Free at all @JamiesItalianUK. Avail until 29/10, book: http://jamieol.com/KEFOct29\"\n",
    ",\"Hurry, only a few more days left to make the most of Kids Eat Free at all @JamiesItalianUK. Avail until 29/10, book: http://jamieol.com/KEFOct29\"]\n",
    "\n",
    "output = thematicsClassifier(post) #change it for posts\n",
    "print(\"Output:\",output)"
   ]
  },
  {
   "cell_type": "code",
   "execution_count": null,
   "metadata": {
    "collapsed": true
   },
   "outputs": [],
   "source": []
  }
 ],
 "metadata": {
  "kernelspec": {
   "display_name": "Python 3",
   "language": "python",
   "name": "python3"
  },
  "language_info": {
   "codemirror_mode": {
    "name": "ipython",
    "version": 3
   },
   "file_extension": ".py",
   "mimetype": "text/x-python",
   "name": "python",
   "nbconvert_exporter": "python",
   "pygments_lexer": "ipython3",
   "version": "3.6.2"
  }
 },
 "nbformat": 4,
 "nbformat_minor": 2
}
